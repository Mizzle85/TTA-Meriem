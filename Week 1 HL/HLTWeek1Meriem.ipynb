{
 "metadata": {
  "language_info": {
   "codemirror_mode": {
    "name": "ipython",
    "version": 3
   },
   "file_extension": ".py",
   "mimetype": "text/x-python",
   "name": "python",
   "nbconvert_exporter": "python",
   "pygments_lexer": "ipython3",
   "version": "3.9.2-final"
  },
  "orig_nbformat": 2,
  "kernelspec": {
   "name": "python39264bita9c664f4fb794b8988b646df7c4fe707",
   "display_name": "Python 3.9.2 64-bit",
   "language": "python"
  }
 },
 "nbformat": 4,
 "nbformat_minor": 2,
 "cells": [
  {
   "cell_type": "code",
   "execution_count": 18,
   "metadata": {},
   "outputs": [
    {
     "output_type": "stream",
     "name": "stdout",
     "text": [
      "Well, Me, I am thinking of a number between 1 and 10\n",
      "Wrong, better luck next time.\n"
     ]
    }
   ],
   "source": [
    "import random\n",
    "myName = input(\"Hello! What is your name?\")\n",
    "number = random.randint(1, 10)\n",
    "print(\"Well, \" + myName + \", I am thinking of a number between 1 and 10\")\n",
    "guess = int(input(\"Take a guess:\"))\n",
    "if guess == number:\n",
    "    print(\"Good job \" + myName + \"! You guessed my number!\") \n",
    "else:\n",
    "    print(\"Wrong, better luck next time.\")"
   ]
  },
  {
   "cell_type": "code",
   "execution_count": 13,
   "metadata": {},
   "outputs": [
    {
     "output_type": "stream",
     "name": "stdout",
     "text": [
      "What's the difference between a good joke and a bad joke... timing.\n"
     ]
    }
   ],
   "source": [
    "Username = input(\"Hi! What is your name?\")\n",
    "number1 = random.randint(1, 30)\n",
    "number2 = random.randint(31, 60)\n",
    "number3 = random.randint(61, 100)\n",
    "guess= int(input(\"Welcome \" +Username+ \" What is your favourite number?\"))\n",
    "if guess<number1:\n",
    "    print (\"Have you played the updated kids' game? I Spy With My Little Eye . . . Phone.\")\n",
    "elif guess<number2:\n",
    "    print (\"What's the difference between a good joke and a bad joke... timing.\")\n",
    "elif guess<number3:\n",
    "    print (\"Don't you hate it when someone answers their own questions? I do.\")\n",
    "else:\n",
    "    print(\"Oh no, i said between 1 - 100!\")"
   ]
  },
  {
   "cell_type": "code",
   "execution_count": 11,
   "metadata": {},
   "outputs": [
    {
     "output_type": "stream",
     "name": "stdout",
     "text": [
      "Well, Mizzle, So we have Salad With a Lovely Pizza To Finish it off with a Ice cream & Lets not forget your Drink gin. Enjoy!\n"
     ]
    }
   ],
   "source": [
    "Name = input(\"Hello! What is your name?\")\n",
    "FavStarter = input(\"Welcome \" + Name + \". Let's Go for Dinner, What is your Favourite Starter?\" )\n",
    "FavMain = input(\"Great Choice, What About Your Favourite Main Meal?\")\n",
    "FavDessert = input(\"Lovely choice \" + Name + \" What about Dessert?\")\n",
    "FavDrink = input(\"Finally, What is your Favourite Drink?\")\n",
    "print(\"Well, \" + Name + \", So we have \" + FavStarter + \" With a Lovely \" + FavMain + \" To Finish it off with a \" + FavDessert + \" & Lets not forget your Drink \" +FavDrink+ \". Enjoy!\")"
   ]
  },
  {
   "cell_type": "code",
   "execution_count": 7,
   "metadata": {},
   "outputs": [
    {
     "output_type": "stream",
     "name": "stdout",
     "text": [
      "£ 2000\n£ 1800.0\n£ 1620.0\n£ 1458.0\n£ 1312.2\n£ 1180.98\n£ 1062.882\n"
     ]
    }
   ],
   "source": [
    "Motorbike = 2000\n",
    "while Motorbike > 1000:\n",
    "    print (\"£\",Motorbike)\n",
    "    Motorbike = Motorbike * 0.9"
   ]
  },
  {
   "cell_type": "code",
   "execution_count": 25,
   "metadata": {},
   "outputs": [
    {
     "output_type": "stream",
     "name": "stdout",
     "text": [
      "Your calulation is 5 * 5 = 25\n"
     ]
    }
   ],
   "source": [
    "num1 = int(input(\"Please enter number: \"))\n",
    "num2 = int(input(\"Please enter another number: \"))\n",
    "\n",
    "chr = input(\"Please choose the multiplication: +, -, *, /, *2:\")\n",
    "\n",
    "Result = 0\n",
    "if chr == \"+\":\n",
    "    Result = num1 + num2\n",
    "elif chr == \"-\":\n",
    "    Result = num1 - num2\n",
    "elif chr == \"*\":\n",
    "    Result = num1 * num2\n",
    "elif chr == \"/\":\n",
    "    Result = num1 / num2\n",
    "elif chr == \"*2\":\n",
    "    Result = ((num1 + num2)**2)\n",
    "else: \n",
    "    print(\"Character is unknown\")\n",
    "print(\"Your calulation is\", num1, chr, num2, \"=\", Result)"
   ]
  },
  {
   "cell_type": "code",
   "execution_count": null,
   "metadata": {},
   "outputs": [],
   "source": []
  }
 ]
}